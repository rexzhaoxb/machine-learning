{
 "cells": [
  {
   "cell_type": "code",
   "execution_count": 2,
   "metadata": {},
   "outputs": [
    {
     "data": {
      "text/plain": [
       "array([[8.09360732, 3.36573151]])"
      ]
     },
     "execution_count": 2,
     "metadata": {},
     "output_type": "execute_result"
    }
   ],
   "source": [
    "import numpy as np\n",
    "\n",
    "# 原始数据-特征，每个样本代表一例肿瘤被发现时的 【大小，时间】\n",
    "raw_data_X = [[3.393533211, 2.331273381],\n",
    "              [3.110073483, 1.781539638],\n",
    "              [1.343808831, 3.368360954],\n",
    "              [3.582294042, 4.679179110],\n",
    "              [2.280362439, 2.866990263],\n",
    "              [7.423436942, 4.696522875],\n",
    "              [5.745051997, 3.533989803],\n",
    "              [9.172168622, 2.511101045],\n",
    "              [7.792783481, 3.424088941],\n",
    "              [7.939820817, 0.791637231]\n",
    "             ]\n",
    "\n",
    "# 原始数据-结果，每个样本代表肿瘤是否为恶性肿瘤，0代表不是恶性肿瘤， 1代表是恶性肿瘤\n",
    "raw_data_y = [0, 0, 0, 0, 0, 1, 1, 1, 1, 1]\n",
    "\n",
    "# 训练数据集，上面的数组类型是 Python list， 一般我们要包装成 numpy 的数组\n",
    "X_train = np.array(raw_data_X)\n",
    "y_train = np.array(raw_data_y)\n",
    "\n",
    "# 待预测的数据\n",
    "x = np.array([8.093607318, 3.365731514])\n",
    "\n",
    "# 从 scikit-learn 中，导入 kNN 算法类\n",
    "from sklearn.neighbors import KNeighborsClassifier    # Classifier 代表分类算法\n",
    "\n",
    "# 先创建一个kNN算法实例\n",
    "kNN_classifier = KNeighborsClassifier(n_neighbors=6)\n",
    "\n",
    "# fit, 使用训练数据拟合模型\n",
    "kNN_classifier.fit(X_train, y_train)\n",
    "\n",
    "# 由于 scikit-learn 中的 kNN 算法处理的是 待预测的 多条数据，所以先要把 单个的 x 转成数组\n",
    "x_to_be_predict = x.reshape(1, -1)\n",
    "x_to_be_predict"
   ]
  },
  {
   "cell_type": "code",
   "execution_count": 5,
   "metadata": {},
   "outputs": [
    {
     "data": {
      "text/plain": [
       "1"
      ]
     },
     "execution_count": 5,
     "metadata": {},
     "output_type": "execute_result"
    }
   ],
   "source": [
    "# predict, 执行预测\n",
    "y_predict = kNN_classifier.predict(x_to_be_predict)\n",
    "y_predict[0]"
   ]
  }
 ],
 "metadata": {
  "kernelspec": {
   "display_name": "Python 3",
   "language": "python",
   "name": "python3"
  },
  "language_info": {
   "codemirror_mode": {
    "name": "ipython",
    "version": 3
   },
   "file_extension": ".py",
   "mimetype": "text/x-python",
   "name": "python",
   "nbconvert_exporter": "python",
   "pygments_lexer": "ipython3",
   "version": "3.7.4"
  }
 },
 "nbformat": 4,
 "nbformat_minor": 2
}
