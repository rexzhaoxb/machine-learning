{
 "cells": [
  {
   "cell_type": "markdown",
   "metadata": {},
   "source": [
    "## 使用鸢尾花的数据集来测试我们的算法"
   ]
  },
  {
   "cell_type": "code",
   "execution_count": 1,
   "metadata": {},
   "outputs": [],
   "source": [
    "import numpy as np\n",
    "import matplotlib.pyplot as plt\n",
    "from sklearn import datasets\n",
    "\n",
    "iris = datasets.load_iris()\n",
    "X = iris.data\n",
    "y = iris.target"
   ]
  },
  {
   "cell_type": "code",
   "execution_count": 2,
   "metadata": {},
   "outputs": [
    {
     "data": {
      "text/plain": [
       "(150, 4)"
      ]
     },
     "execution_count": 2,
     "metadata": {},
     "output_type": "execute_result"
    }
   ],
   "source": [
    "X.shape"
   ]
  },
  {
   "cell_type": "code",
   "execution_count": 3,
   "metadata": {},
   "outputs": [
    {
     "data": {
      "text/plain": [
       "(150,)"
      ]
     },
     "execution_count": 3,
     "metadata": {},
     "output_type": "execute_result"
    }
   ],
   "source": [
    "y.shape"
   ]
  },
  {
   "cell_type": "markdown",
   "metadata": {},
   "source": [
    "### train_test_split 把数据集拆为两部分，一大部分是训练用，一小部分是测试用"
   ]
  },
  {
   "cell_type": "code",
   "execution_count": 4,
   "metadata": {},
   "outputs": [
    {
     "data": {
      "text/plain": [
       "array([ 10, 118,  15, 127, 101,  70,  54,   8,  75,  55, 141,  29,  96,\n",
       "       102,  97,  50, 106,   7,  62,   6,  98,  34,   3,  46,  22,  13,\n",
       "        44,  56, 126, 100,  90,  68, 113, 115,  85,  21,  61,  26,  66,\n",
       "        19, 121,  38, 134,  58,  69,  81, 108, 120, 148,   9, 129,  28,\n",
       "       130,  35,  37,   0,  49, 145, 142, 136,  91, 135, 107, 112,  71,\n",
       "        59,  12,  95, 146,  51, 131,  64, 119,  72,  53,  80,  94,   1,\n",
       "        77, 128,  65,  92,  40,   5, 140,  73,  39,  17, 105,  87, 132,\n",
       "       125, 124,  16, 147,  36,  86, 116,  63,  84,  67, 114,  47,  76,\n",
       "        82, 138,  57,  41,  33,  30,  45,  83, 122, 104,  20,  24, 144,\n",
       "       149,  99,  32,  11, 111,  52, 139, 103, 109,  27,  79,  18,  42,\n",
       "        89,  23, 117,  74,  88,  60,  43,  14, 137, 133,   2,  31, 143,\n",
       "       110,  48,  93, 123,  25,  78,   4])"
      ]
     },
     "execution_count": 4,
     "metadata": {},
     "output_type": "execute_result"
    }
   ],
   "source": [
    "# 防止数据集是有序，会影响训练和测试的效果，所以第一步要把数据乱序（shuffle）处理\n",
    "# 同时要注意，X 和 y 中的数据是一一对应的，所以乱序处理不能把他们的对应关系搞乱，so专门做一个乱序数组按照下标分别到 X 和 y 中取值\n",
    "shuffle_indexes = np.random.permutation(len(X))\n",
    "shuffle_indexes"
   ]
  },
  {
   "cell_type": "code",
   "execution_count": 5,
   "metadata": {},
   "outputs": [
    {
     "data": {
      "text/plain": [
       "30"
      ]
     },
     "execution_count": 5,
     "metadata": {},
     "output_type": "execute_result"
    }
   ],
   "source": [
    "# 确定测试数据集占整个数据集的比率\n",
    "test_ratio = 0.2\n",
    "# 测试数据集大小\n",
    "test_size = int(len(X) * test_ratio)\n",
    "test_size"
   ]
  },
  {
   "cell_type": "code",
   "execution_count": 6,
   "metadata": {},
   "outputs": [
    {
     "name": "stdout",
     "output_type": "stream",
     "text": [
      "(120, 4)\n",
      "(120,)\n",
      "(30, 4)\n",
      "(30,)\n"
     ]
    }
   ],
   "source": [
    "# 测试数据集的索引\n",
    "test_indexes = shuffle_indexes[test_size:]\n",
    "# 训练数据集的索引\n",
    "train_indexes = shuffle_indexes[:test_size]\n",
    "\n",
    "# 测试数据集\n",
    "X_test = X[test_indexes]\n",
    "y_test = y[test_indexes]\n",
    "# 训练数据集\n",
    "X_train = X[train_indexes]\n",
    "y_train = y[train_indexes]\n",
    "\n",
    "print(X_test.shape)\n",
    "print(y_test.shape)\n",
    "print(X_train.shape)\n",
    "print(y_train.shape)"
   ]
  },
  {
   "cell_type": "code",
   "execution_count": 7,
   "metadata": {},
   "outputs": [
    {
     "data": {
      "text/plain": [
       "array([1, 1, 2, 2, 1, 0, 1, 0, 1, 0, 2, 0, 2, 1, 1, 1, 2, 2, 2, 0, 2, 0,\n",
       "       2, 0, 0, 0, 0, 2, 2, 2, 1, 2, 2, 2, 1, 1, 0, 1, 2, 1, 2, 1, 2, 2,\n",
       "       1, 1, 1, 0, 1, 2, 1, 1, 0, 0, 2, 1, 0, 0, 2, 1, 2, 2, 2, 0, 2, 0,\n",
       "       1, 2, 1, 1, 1, 2, 0, 1, 1, 2, 1, 0, 0, 0, 0, 2, 2, 2, 0, 0, 2, 2,\n",
       "       1, 0, 0, 2, 1, 2, 2, 2, 0, 1, 0, 0, 1, 0, 2, 1, 1, 1, 0, 0, 2, 2,\n",
       "       0, 0, 2, 2, 0, 1, 2, 0, 1, 0])"
      ]
     },
     "execution_count": 7,
     "metadata": {},
     "output_type": "execute_result"
    }
   ],
   "source": [
    "# 用这些准备好的数据来测试我们自己写的kNN算法\n",
    "\n",
    "from my_kNN.kNN import kNNClassifier\n",
    "\n",
    "knn = kNNClassifier(k=3)\n",
    "knn.fit(X_train, y_train)\n",
    "y_predict = knn.predict(X_test)\n",
    "y_predict"
   ]
  },
  {
   "cell_type": "code",
   "execution_count": 9,
   "metadata": {},
   "outputs": [
    {
     "data": {
      "text/plain": [
       "0.9833333333333333"
      ]
     },
     "execution_count": 9,
     "metadata": {},
     "output_type": "execute_result"
    }
   ],
   "source": [
    "# 预测准确率\n",
    "sum(y_predict == y_test) / len(y_test)"
   ]
  },
  {
   "cell_type": "markdown",
   "metadata": {},
   "source": [
    "## sklearn 中封装的 train_test_split"
   ]
  },
  {
   "cell_type": "code",
   "execution_count": 10,
   "metadata": {},
   "outputs": [
    {
     "name": "stdout",
     "output_type": "stream",
     "text": [
      "(30, 4)\n",
      "(30,)\n",
      "(120, 4)\n",
      "(120,)\n"
     ]
    }
   ],
   "source": [
    "from sklearn.model_selection import train_test_split\n",
    "X_train, X_test, y_train, y_test = train_test_split(X, y, test_size=0.2, )\n",
    "print(X_test.shape)\n",
    "print(y_test.shape)\n",
    "print(X_train.shape)\n",
    "print(y_train.shape)"
   ]
  },
  {
   "cell_type": "code",
   "execution_count": 12,
   "metadata": {},
   "outputs": [],
   "source": [
    "# 使用 sklearn 的 kNN 算法\n",
    "from sklearn.neighbors import KNeighborsClassifier\n",
    "sk_knn = KNeighborsClassifier(n_neighbors=3)\n",
    "sk_knn.fit(X_train, y_train)\n",
    "y_predict = sk_knn.predict(X_test)\n"
   ]
  },
  {
   "cell_type": "markdown",
   "metadata": {},
   "source": [
    "## sklearn 中封装的 计算准确度方法"
   ]
  },
  {
   "cell_type": "code",
   "execution_count": 16,
   "metadata": {},
   "outputs": [
    {
     "data": {
      "text/plain": [
       "0.9333333333333333"
      ]
     },
     "execution_count": 16,
     "metadata": {},
     "output_type": "execute_result"
    }
   ],
   "source": [
    "from sklearn.metrics import accuracy_score\n",
    "accuracy_score(y_test, y_predict)"
   ]
  },
  {
   "cell_type": "code",
   "execution_count": 17,
   "metadata": {},
   "outputs": [
    {
     "data": {
      "text/plain": [
       "0.9333333333333333"
      ]
     },
     "execution_count": 17,
     "metadata": {},
     "output_type": "execute_result"
    }
   ],
   "source": [
    "# 如果不关心预测结果，只想知道模型的准确度，可以直接调用算法的方法的得到准确度：\n",
    "sk_knn2 = KNeighborsClassifier(n_neighbors=3)\n",
    "sk_knn2.fit(X_train, y_train)\n",
    "sk_knn2.score(X_test, y_test)"
   ]
  }
 ],
 "metadata": {
  "kernelspec": {
   "display_name": "Python 3",
   "language": "python",
   "name": "python3"
  },
  "language_info": {
   "codemirror_mode": {
    "name": "ipython",
    "version": 3
   },
   "file_extension": ".py",
   "mimetype": "text/x-python",
   "name": "python",
   "nbconvert_exporter": "python",
   "pygments_lexer": "ipython3",
   "version": "3.7.4"
  }
 },
 "nbformat": 4,
 "nbformat_minor": 2
}
